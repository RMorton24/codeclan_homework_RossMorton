{
 "cells": [
  {
   "cell_type": "markdown",
   "id": "f81d95c5",
   "metadata": {},
   "source": [
    "# Question 1\n",
    "Create a list with the following data, and assign it to a variable named shopping: 'spam' 'ham' 'eggs' 'ham'\n",
    "\n",
    "Then do the following:\n",
    "\n",
    "Extract the second element of the list.\n",
    "\n",
    "Extract the first to third (inclusive) element of the list.\n",
    "\n",
    "Extract only the last element of the list."
   ]
  },
  {
   "cell_type": "code",
   "execution_count": 3,
   "id": "fdcaead2",
   "metadata": {},
   "outputs": [
    {
     "name": "stdout",
     "output_type": "stream",
     "text": [
      "ham\n",
      "['spam', 'ham', 'eggs']\n",
      "ham\n"
     ]
    }
   ],
   "source": [
    "shopping = [\"spam\", \"ham\", \"eggs\", \"ham\"]\n",
    "print(shopping[1])\n",
    "print(shopping[:3])\n",
    "print(shopping[-1])"
   ]
  },
  {
   "cell_type": "markdown",
   "id": "9ae1a910",
   "metadata": {},
   "source": [
    "# Question 2\n",
    "Set up a list with the following elements:\n",
    "\n",
    "stops = [\"Croy\", \"Cumbernauld\", \"Falkirk High\", \"Linlithgow\", \"Livingston\", \"Haymarket\"]\n",
    "\n",
    "Perform the following:\n",
    "\n",
    "Append Edinburgh Waverley to the end of the list\n",
    "Add \"Queen Street\" to the start of the list\n",
    "Find out what index \"Croy\" is at in the list\n",
    "Add \"Polmont\" at the appropriate point (between \"Falkirk High\" and \"Linlithgow\")\n",
    "Remove \"Haymarket\" from the list of stops\n",
    "Remove all items from stops\n",
    "Hint: Some of these methods will change the original object stops. If you make any unwanted changes and want to go back to the original object you can re-run the code chunks where we created the object stops and then appended \"Edinburgh Waverley\"."
   ]
  },
  {
   "cell_type": "code",
   "execution_count": 4,
   "id": "42c67250",
   "metadata": {},
   "outputs": [
    {
     "data": {
      "text/plain": [
       "['Croy',\n",
       " 'Cumbernauld',\n",
       " 'Falkirk High',\n",
       " 'Linlithgow',\n",
       " 'Livingston',\n",
       " 'Haymarket',\n",
       " 'Ediburgh Waverley']"
      ]
     },
     "execution_count": 4,
     "metadata": {},
     "output_type": "execute_result"
    }
   ],
   "source": [
    "stops = [\"Croy\", \"Cumbernauld\", \"Falkirk High\", \"Linlithgow\", \"Livingston\", \"Haymarket\"]\n",
    "\n",
    "stops.append(\"Ediburgh Waverley\")\n",
    "stops"
   ]
  },
  {
   "cell_type": "code",
   "execution_count": 8,
   "id": "0d648e8b",
   "metadata": {},
   "outputs": [
    {
     "data": {
      "text/plain": [
       "['Queen Street',\n",
       " 'Croy',\n",
       " 'Cumbernauld',\n",
       " 'Falkirk High',\n",
       " 'Linlithgow',\n",
       " 'Livingston',\n",
       " 'Haymarket',\n",
       " 'Ediburgh Waverley']"
      ]
     },
     "execution_count": 8,
     "metadata": {},
     "output_type": "execute_result"
    }
   ],
   "source": [
    "stops.insert(0, \"Queen Street\")\n",
    "stops"
   ]
  },
  {
   "cell_type": "code",
   "execution_count": 9,
   "id": "908b5bcf",
   "metadata": {},
   "outputs": [
    {
     "data": {
      "text/plain": [
       "1"
      ]
     },
     "execution_count": 9,
     "metadata": {},
     "output_type": "execute_result"
    }
   ],
   "source": [
    "stops.index(\"Croy\")"
   ]
  },
  {
   "cell_type": "code",
   "execution_count": 12,
   "id": "99057dfb",
   "metadata": {},
   "outputs": [
    {
     "data": {
      "text/plain": [
       "['Queen Street',\n",
       " 'Croy',\n",
       " 'Cumbernauld',\n",
       " 'Falkirk High',\n",
       " 'Polmont',\n",
       " 'Linlithgow',\n",
       " 'Livingston',\n",
       " 'Haymarket',\n",
       " 'Ediburgh Waverley']"
      ]
     },
     "execution_count": 12,
     "metadata": {},
     "output_type": "execute_result"
    }
   ],
   "source": [
    "index_location = stops.index(\"Linlithgow\")\n",
    "stops.insert(index_location, \"Polmont\")\n",
    "stops"
   ]
  },
  {
   "cell_type": "code",
   "execution_count": 13,
   "id": "b786c30d",
   "metadata": {
    "scrolled": true
   },
   "outputs": [
    {
     "data": {
      "text/plain": [
       "['Queen Street',\n",
       " 'Croy',\n",
       " 'Cumbernauld',\n",
       " 'Falkirk High',\n",
       " 'Polmont',\n",
       " 'Linlithgow',\n",
       " 'Livingston',\n",
       " 'Ediburgh Waverley']"
      ]
     },
     "execution_count": 13,
     "metadata": {},
     "output_type": "execute_result"
    }
   ],
   "source": [
    "stops.remove(\"Haymarket\")\n",
    "stops"
   ]
  },
  {
   "cell_type": "code",
   "execution_count": 15,
   "id": "bfc64c17",
   "metadata": {},
   "outputs": [
    {
     "data": {
      "text/plain": [
       "[]"
      ]
     },
     "execution_count": 15,
     "metadata": {},
     "output_type": "execute_result"
    }
   ],
   "source": [
    "stops.clear()\n",
    "stops"
   ]
  },
  {
   "cell_type": "markdown",
   "id": "3be8fb4a",
   "metadata": {},
   "source": [
    "# Question 3"
   ]
  },
  {
   "cell_type": "code",
   "execution_count": 19,
   "id": "a862d0ed",
   "metadata": {},
   "outputs": [
    {
     "name": "stdout",
     "output_type": "stream",
     "text": [
      "1 {'name': 'Steph', 'age': 31, 'Instructor': True}\n",
      "2 dict_keys(['name', 'age', 'Instructor'])\n",
      "3 Steph\n",
      "4 {'name': 'Steph', 'age': 31, 'Instructor': True, 'email': 'steph@codeclan.com'}\n",
      "5 {'name': 'Steph', 'age': 31, 'email': 'steph@codeclan.com'}\n"
     ]
    }
   ],
   "source": [
    "#Set up the following dictionary:\n",
    "\n",
    "person = {\"name\": \"Steph\", \"age\": 31, \"Instructor\" : True}\n",
    "print(1, person)\n",
    "#Do the following:\n",
    "\n",
    "#Return the keys, values and items from this dictionary\n",
    "print(2, person.keys())\n",
    "#Take out only the name from it\n",
    "print(3, person[\"name\"])\n",
    "#Add a new key:value pair, which adds the email \"steph@codeclan.com\" to the dictionary\n",
    "person.update({\"email\": \"steph@codeclan.com\"})\n",
    "print(4, person)\n",
    "#Delete the job description from the dictionary (Hint: look up the del function)\n",
    "del person[\"Instructor\"]\n",
    "print(5, person)"
   ]
  },
  {
   "cell_type": "markdown",
   "id": "728616ad",
   "metadata": {},
   "source": [
    "# Question 4\n",
    "For the following list of numbers:"
   ]
  },
  {
   "cell_type": "code",
   "execution_count": null,
   "id": "3836d933",
   "metadata": {
    "scrolled": true
   },
   "outputs": [
    {
     "name": "stdout",
     "output_type": "stream",
     "text": [
      "1 [6, 2, 2, 6]\n",
      "2 98\n",
      "3 []\n"
     ]
    }
   ],
   "source": [
    "numbers = [1, 6, 2, 2, 7, 1, 6, 13, 99, 7]\n",
    "\n",
    "#Print out a list of the even integers:\n",
    "print(1, [x for x in numbers if x % 2 == 0])\n",
    "#Print the difference between the largest and smallest value:\n",
    "print(2, max(numbers) - min(numbers))\n",
    "#Print True if the list contains a 2 next to a 2 somewhere.\n",
    "print(3, [True for x in range(0, len(numbers) -1) if numbers[x] == 2 and 2 == numbers[x+1]])\n",
    "#Print the sum of the numbers, BUT ignore any section of numbers starting with a 6 and\n",
    "#extending to the next 7. So [11, 6, 4, 99, 7, 11] would have sum of 22"
   ]
  },
  {
   "cell_type": "code",
   "execution_count": 105,
   "id": "3a5becb5",
   "metadata": {},
   "outputs": [
    {
     "data": {
      "text/plain": [
       "2"
      ]
     },
     "execution_count": 105,
     "metadata": {},
     "output_type": "execute_result"
    }
   ],
   "source": [
    "total = 0\n",
    "stop_count = False\n",
    "for x in range(0, len(numbers)):\n",
    "    array_val = numbers[x]\n",
    "    if array_val != 6 and stop_count == False:\n",
    "        total += array_val\n",
    "    elif stop_count == True:\n",
    "        if array_val == 7:\n",
    "            stop_count = False\n",
    "    elif array_val == 6:\n",
    "        if numbers[x:].count(7) > 0:\n",
    "            stop_count = True\n",
    "        else:\n",
    "            total += array_val  \n",
    "total"
   ]
  },
  {
   "cell_type": "code",
   "execution_count": 95,
   "id": "22041a83",
   "metadata": {},
   "outputs": [
    {
     "data": {
      "text/plain": [
       "[6, 2, 2, 7]"
      ]
     },
     "execution_count": 95,
     "metadata": {},
     "output_type": "execute_result"
    }
   ],
   "source": [
    "if numbers.index(6) and numbers[numbers.index(6):].count(7) > 1\n",
    "numbers[numbers.index(6):numbers.index(7)+1]\n"
   ]
  },
  {
   "cell_type": "markdown",
   "id": "ae005a5a",
   "metadata": {},
   "source": [
    "# Question 5\n",
    "Write a conditional that takes in two inputs :\n",
    "python_is_fun = True\n",
    "python_is_weird = True\n",
    "We want to print \"Woo Python!\" if either python_is_fun is true OR python_is_weird is true OR both python_is_fun and python_is_weird are true. Otherwise, print \"Python is not for me!\". Make sure you test all the combinations."
   ]
  },
  {
   "cell_type": "code",
   "execution_count": 109,
   "id": "a310a97e",
   "metadata": {},
   "outputs": [
    {
     "name": "stdout",
     "output_type": "stream",
     "text": [
      "Python is not for me!\n"
     ]
    }
   ],
   "source": [
    "python_is_fun = False\n",
    "python_is_weird = False\n",
    "\n",
    "if python_is_fun == True or python_is_weird == True:\n",
    "    print(\"Woo Python!\")\n",
    "else:\n",
    "    print(\"Python is not for me!\")"
   ]
  },
  {
   "cell_type": "markdown",
   "id": "b50184e2",
   "metadata": {},
   "source": [
    "# Question 6\n",
    "We have a list of chickens and the farmer would like to go through all the chickens, collecting the eggs and getting the total number of eggs collected.\n",
    "\n",
    "chickens = [\n",
    "  { \"name\": \"Margaret\", \"age\": 2, \"eggs\": 0 },\n",
    "  { \"name\": \"Hetty\", \"age\": 1, \"eggs\": 2 },\n",
    "  { \"name\": \"Henrietta\", \"age\": 3, \"eggs\": 1 },\n",
    "  { \"name\": \"Audrey\", \"age\": 2, \"eggs\": 0 },\n",
    "  { \"name\": \"Mabel\", \"age\": 5, \"eggs\": 1 },\n",
    "]\n",
    "\n",
    "To write this as a loop, we'd do something like this:\n",
    "\n",
    "total_eggs = 0\n",
    "\n",
    "for chicken in chickens:\n",
    "    total_eggs += chicken[\"eggs\"]\n",
    "    chicken[\"eggs\"] = 0 # eggs have been collected\n",
    "\n",
    "print(f\"{total_eggs} eggs collected\")\n",
    "\n",
    "Instead, we want to define a function which passes in a list, so that if we wanted to count eggs of a different list of chickens from another farm, we can use the same function, just pass in a different list.\n",
    "\n",
    "We also want to return the string at the end, instead of using print."
   ]
  },
  {
   "cell_type": "code",
   "execution_count": 134,
   "id": "5412cdc5",
   "metadata": {},
   "outputs": [
    {
     "name": "stdout",
     "output_type": "stream",
     "text": [
      "4 eggs collected\n"
     ]
    }
   ],
   "source": [
    "chickens = [\n",
    "  { \"name\": \"Margaret\", \"age\": 2, \"eggs\": 0 },\n",
    "  { \"name\": \"Hetty\", \"age\": 1, \"eggs\": 2 },\n",
    "  { \"name\": \"Henrietta\", \"age\": 3, \"eggs\": 1 },\n",
    "  { \"name\": \"Audrey\", \"age\": 2, \"eggs\": 0 },\n",
    "  { \"name\": \"Mabel\", \"age\": 5, \"eggs\": 1 },\n",
    "]\n",
    "\n",
    "total_eggs = 0\n",
    "\n",
    "for chicken in chickens:\n",
    "    total_eggs += chicken[\"eggs\"]\n",
    "    chicken[\"eggs\"] = 0 # eggs have been collected\n",
    "\n",
    "print(f\"{total_eggs} eggs collected\")"
   ]
  },
  {
   "cell_type": "code",
   "execution_count": 5,
   "id": "9d741b7a",
   "metadata": {},
   "outputs": [],
   "source": [
    "def egg_count(chickens_list):\n",
    "    count_of_eggs = sum({x:chickens_list[x][\"eggs\"] for x in range(0, len(chickens_list))}.values())\n",
    "    return str(count_of_eggs) + \" eggs collected\""
   ]
  },
  {
   "cell_type": "code",
   "execution_count": null,
   "id": "708ee95d",
   "metadata": {},
   "outputs": [
    {
     "data": {
      "text/plain": [
       "'4 eggs collected'"
      ]
     },
     "execution_count": 6,
     "metadata": {},
     "output_type": "execute_result"
    }
   ],
   "source": [
    "chickens = [\n",
    "  { \"name\": \"Margaret\", \"age\": 2, \"eggs\": 0 },\n",
    "  { \"name\": \"Hetty\", \"age\": 1, \"eggs\": 2 },\n",
    "  { \"name\": \"Henrietta\", \"age\": 3, \"eggs\": 1 },\n",
    "  { \"name\": \"Audrey\", \"age\": 2, \"eggs\": 0 },\n",
    "  { \"name\": \"Mabel\", \"age\": 5, \"eggs\": 1 },\n",
    "]\n",
    "egg_count(chickens)"
   ]
  },
  {
   "cell_type": "markdown",
   "id": "8d9ecac2",
   "metadata": {},
   "source": [
    "Extensions\n",
    "Question 1¶\n",
    "Set up the following collection:\n"
   ]
  },
  {
   "cell_type": "code",
   "execution_count": 213,
   "id": "8bf0d5c9",
   "metadata": {},
   "outputs": [
    {
     "name": "stdout",
     "output_type": "stream",
     "text": [
      "{0: 'Scotland', 1: 'Wales', 2: 'England', 3: 'Northern Ireland'}\n",
      "Total population 63179000\n"
     ]
    }
   ],
   "source": [
    "united_kingdom = [\n",
    "  {\n",
    "    \"name\": \"Scotland\",\n",
    "    \"population\": 5295000,\n",
    "    \"capital\": \"Edinburgh\"\n",
    "  },\n",
    "  {\n",
    "    \"name\": \"Wales\",\n",
    "    \"population\": 3063000,\n",
    "    \"capital\": \"Swansea\"\n",
    "  },\n",
    "  {\n",
    "    \"name\": \"England\",\n",
    "    \"population\": 53010000,\n",
    "    \"capital\": \"London\"\n",
    "  }\n",
    "]\n",
    "\n",
    "#Change the capital of Wales from \"Swansea\" to \"Cardiff\".\n",
    "united_kingdom[1].update({\"capital\": \"Cardiff\"})\n",
    "print(united_kingdom[1])\n",
    "\n",
    "#Create a dictionary for Northern Ireland and add it to the united_kingdom \n",
    "#list (The capital is Belfast, and the population is 1,811,000).\n",
    "united_kingdom.append({\n",
    "    \"name\": \"Northern Ireland\",\n",
    "    \"population\": 1811000,\n",
    "    \"capital\": \"Belfast\"\n",
    "})\n",
    "#Use a loop to print the names of all the countries in the UK.\n",
    "print({x:united_kingdom[x][\"name\"] for x in range(0, len(united_kingdom))})\n",
    "\n",
    "#Use a loop to find the total population of the UK.\n",
    "print(\"Total population\",\n",
    "      sum({x:united_kingdom[x][\"population\"] for x in range(0, len(united_kingdom))}.values()))"
   ]
  },
  {
   "cell_type": "markdown",
   "id": "a7526860",
   "metadata": {},
   "source": [
    "# Question 2¶\n",
    "Set up the following:"
   ]
  },
  {
   "cell_type": "code",
   "execution_count": 261,
   "id": "a1c558de",
   "metadata": {},
   "outputs": [
    {
     "name": "stdout",
     "output_type": "stream",
     "text": [
      "jonnyt\n",
      "Stirling\n",
      "[6, 12, 49, 33, 45, 20]\n",
      "snake\n",
      "6\n",
      "[12, 14, 38]\n",
      "[6, 12, 49, 33, 45, 20, 7]\n",
      "Edinburgh\n",
      "[{'name': 'fluffy', 'species': 'cat'}, {'name': 'fido', 'species': 'dog'}, {'name': 'spike', 'species': 'dog'}, {'name': 'Fluffy', 'specied': 'dog'}]\n",
      "{'twitter': 'gc_code', 'lotter_numbers': [1, 2, 3, 4, 5, 6, 7], 'home_town': 'Glasgow', 'pets': {'name': 'Buster', 'species': 'dog'}}\n"
     ]
    }
   ],
   "source": [
    "users = {\n",
    "  \"Jonathan\": {\n",
    "    \"twitter\": \"jonnyt\",\n",
    "    \"lottery_numbers\": [6, 12, 49, 33, 45, 20],\n",
    "    \"home_town\": \"Stirling\",\n",
    "    \"pets\": [\n",
    "    {\n",
    "      \"name\": \"fluffy\",\n",
    "      \"species\": \"cat\"\n",
    "    },\n",
    "    {\n",
    "      \"name\": \"fido\",\n",
    "      \"species\": \"dog\"\n",
    "    },\n",
    "    {\n",
    "      \"name\": \"spike\",\n",
    "      \"species\": \"dog\"\n",
    "    }\n",
    "  ]\n",
    "  },\n",
    "  \"Erik\": {\n",
    "    \"twitter\": \"eriksf\",\n",
    "    \"lottery_numbers\": [18, 34, 8, 11, 24],\n",
    "    \"home_town\": \"Linlithgow\",\n",
    "    \"pets\": [\n",
    "    {\n",
    "      \"name\": \"nemo\",\n",
    "      \"species\": \"fish\"\n",
    "    },\n",
    "    {\n",
    "      \"name\": \"kevin\",\n",
    "      \"species\": \"fish\"\n",
    "    },\n",
    "    {\n",
    "      \"name\": \"spike\",\n",
    "      \"species\": \"dog\"\n",
    "    },\n",
    "    {\n",
    "      \"name\": \"rupert\",\n",
    "      \"species\": \"parrot\"\n",
    "    }\n",
    "  ]\n",
    "  },\n",
    "  \"Avril\": {\n",
    "    \"twitter\": \"bridgpally\",\n",
    "    \"lottery_numbers\": [12, 14, 33, 38, 9, 25],\n",
    "    \"home_town\": \"Dunbar\",\n",
    "    \"pets\": [\n",
    "      {\n",
    "        \"name\": \"monty\",\n",
    "        \"species\": \"snake\"\n",
    "      }\n",
    "    ]\n",
    "  }\n",
    "}\n",
    "\n",
    "\n",
    "#Get Jonathan's Twitter handle (i.e. the string \"jonnyt\")\n",
    "print(users[\"Jonathan\"][\"twitter\"])\n",
    "#Get Erik's hometown\n",
    "print(users[\"Jonathan\"][\"home_town\"])\n",
    "#Get the array of Erik's lottery numbers\n",
    "print(users[\"Jonathan\"][\"lottery_numbers\"])\n",
    "#Get the species of Avril's pet Monty\n",
    "print(users[\"Avril\"][\"pets\"][0][\"species\"])\n",
    "#Get the smallest of Erik's lottery numbers\n",
    "print(min(users[\"Jonathan\"][\"lottery_numbers\"]))\n",
    "#Return an array of Avril's lottery numbers that are even\n",
    "lot_num = users[\"Avril\"][\"lottery_numbers\"]\n",
    "print([lot_num[x] for x in range(0, len(lot_num)) if lot_num[x] % 2 == 0])\n",
    "\n",
    "#Erik is one lottery number short! Add the number 7 to be included in his lottery numbers\n",
    "users[\"Jonathan\"][\"lottery_numbers\"].append(7)\n",
    "print(users[\"Jonathan\"][\"lottery_numbers\"])\n",
    "\n",
    "#Change Erik's hometown to Edinburgh\n",
    "users[\"Jonathan\"].update({\"hometown\": \"Edinburgh\"})\n",
    "print(users[\"Jonathan\"][\"hometown\"])\n",
    "\n",
    "#Add a pet dog to Erik called \"Fluffy\"\n",
    "users[\"Jonathan\"][\"pets\"].append({\"name\": \"Fluffy\",\n",
    "                                 \"specied\": \"dog\"})\n",
    "print(users[\"Jonathan\"][\"pets\"])\n",
    "\n",
    "#Add another person to the users dictionary\n",
    "users.update({\"Graham\":\n",
    "             {\n",
    "                 \"twitter\": \"gc_code\",\n",
    "                 \"lotter_numbers\": [1, 2, 3, 4, 5, 6, 7],\n",
    "                 \"home_town\": \"Glasgow\",\n",
    "                 \"pets\": {\"name\": \"Buster\", \"species\": \"dog\"}\n",
    "             }\n",
    "             })\n",
    "\n",
    "print(users[\"Graham\"])"
   ]
  }
 ],
 "metadata": {
  "kernelspec": {
   "display_name": "Python 3 (ipykernel)",
   "language": "python",
   "name": "python3"
  },
  "language_info": {
   "codemirror_mode": {
    "name": "ipython",
    "version": 3
   },
   "file_extension": ".py",
   "mimetype": "text/x-python",
   "name": "python",
   "nbconvert_exporter": "python",
   "pygments_lexer": "ipython3",
   "version": "3.9.12"
  },
  "varInspector": {
   "cols": {
    "lenName": 16,
    "lenType": 16,
    "lenVar": 40
   },
   "kernels_config": {
    "python": {
     "delete_cmd_postfix": "",
     "delete_cmd_prefix": "del ",
     "library": "var_list.py",
     "varRefreshCmd": "print(var_dic_list())"
    },
    "r": {
     "delete_cmd_postfix": ") ",
     "delete_cmd_prefix": "rm(",
     "library": "var_list.r",
     "varRefreshCmd": "cat(var_dic_list()) "
    }
   },
   "types_to_exclude": [
    "module",
    "function",
    "builtin_function_or_method",
    "instance",
    "_Feature"
   ],
   "window_display": false
  }
 },
 "nbformat": 4,
 "nbformat_minor": 5
}
