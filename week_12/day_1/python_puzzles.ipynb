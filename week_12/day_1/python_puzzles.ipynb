{
 "cells": [
  {
   "cell_type": "markdown",
   "id": "a7e10ff9-5bfd-4a4b-8079-f0ee246eca07",
   "metadata": {},
   "source": [
    "Who knows where the time goes?¶\n",
    "Given a list of the years in which people were born, write a list comprehension to determine their age based on the current year. Ignore dates and months when calculating this.\n",
    "\n",
    "years_of_birth = [1990, 1991, 1990, 1990, 1992, 1991, 1976, 1984, 1940]"
   ]
  },
  {
   "cell_type": "code",
   "execution_count": 12,
   "id": "26b36666-f40a-4ef6-8821-dd834e047e30",
   "metadata": {},
   "outputs": [
    {
     "name": "stdout",
     "output_type": "stream",
     "text": [
      "[32, 31, 32, 32, 30, 31, 46, 38, 82]\n"
     ]
    }
   ],
   "source": [
    "years_of_birth = [1990, 1991, 1990, 1990, 1992, 1991, 1976, 1984, 1940]\n",
    "x = []\n",
    "for i in range(0, len(years_of_birth)): \n",
    "    x.append(2022 - years_of_birth[i])\n",
    "print(x)"
   ]
  },
  {
   "cell_type": "markdown",
   "id": "a0e29590-86d6-4226-a8da-78e8895ea888",
   "metadata": {},
   "source": [
    "Back to front¶\n",
    "Write a function is_palindrome(input_string) to determine whether an input string is a palindrome (i.e. reads the same backwards as forwards, e.g. 'madam'). The function should return True if the string is a palindrome and False otherwise. As an extension, amend your code so that it strips out spaces from the string.\n",
    "\n",
    "[Hint - to do this efficiently, research methods to reverse a string in Python]"
   ]
  },
  {
   "cell_type": "code",
   "execution_count": 21,
   "id": "12203095-d32f-441b-9f4b-d7f84310bf2f",
   "metadata": {},
   "outputs": [
    {
     "data": {
      "text/plain": [
       "True"
      ]
     },
     "execution_count": 21,
     "metadata": {},
     "output_type": "execute_result"
    }
   ],
   "source": [
    "text = \"madam madam \"\n",
    "\n",
    "def is_palindrom(input_string):\n",
    "    palin_text = str.replace(input_string, \" \", \"\")\n",
    "    return palin_text[::-1] == palin_text\n",
    "\n",
    "is_palindrom(text)"
   ]
  },
  {
   "cell_type": "code",
   "execution_count": 19,
   "id": "7cfceb1e-7d97-4470-9191-d0cf30d463f1",
   "metadata": {},
   "outputs": [
    {
     "data": {
      "text/plain": [
       "'helloisthereaspace'"
      ]
     },
     "execution_count": 19,
     "metadata": {},
     "output_type": "execute_result"
    }
   ],
   "source": [
    "Multiples of 3 or 5\n",
    "If we list all the natural numbers below 10 that are multiples of 3 or 5, we get 3, 5, 6 and 9. The sum of these multiples is 23.\n",
    "\n",
    "Find the sum of all the multiples of 3 or 5 below 1000.\n",
    "\n",
    "From Project Euler (Problem 1)"
   ]
  },
  {
   "cell_type": "code",
   "execution_count": 28,
   "id": "09c27681-438a-46ae-8e83-b9e589ac6f07",
   "metadata": {},
   "outputs": [
    {
     "data": {
      "text/plain": [
       "233168"
      ]
     },
     "execution_count": 28,
     "metadata": {},
     "output_type": "execute_result"
    }
   ],
   "source": [
    "x = list(range(1, 1000))\n",
    "\n",
    "sum([num for num in x if num % 3 == 0 or num % 5 == 0])"
   ]
  },
  {
   "cell_type": "markdown",
   "id": "f7a80d15-e979-41e7-b54d-8b71c5dc5275",
   "metadata": {},
   "source": [
    "No need to repeat yourself...¶\n",
    "Write a function remove_duplicates(input_list) that takes in an input list of words and removes any duplicates it finds, returning the list without duplicates. For example with input:\n",
    "\n",
    "input_list = [\"I\", \"am\", \"counting\", \"my\", \"calories\", \"yet\", \"I\", \"really\", \"want\", \"dessert\", \"I\", \"am\", \"still\", \"hungry\"]\n",
    "\n",
    "the function should output:\n",
    "\n",
    "[\"I\", \"am\", \"counting\", \"my\", \"calories\", \"yet\", \"really\", \"want\", \"dessert\", \"still\", \"hungry\"]\n",
    "\n",
    "[Hint research the in and not keywords in Python]."
   ]
  },
  {
   "cell_type": "code",
   "execution_count": 35,
   "id": "b4c8df34-f28b-48d2-a1aa-ccf0d8acde4a",
   "metadata": {},
   "outputs": [
    {
     "data": {
      "text/plain": [
       "['I',\n",
       " 'am',\n",
       " 'counting',\n",
       " 'my',\n",
       " 'calories',\n",
       " 'yet',\n",
       " 'really',\n",
       " 'want',\n",
       " 'dessert',\n",
       " 'still',\n",
       " 'hungry']"
      ]
     },
     "execution_count": 35,
     "metadata": {},
     "output_type": "execute_result"
    }
   ],
   "source": [
    "input_list = [\"I\", \"am\", \"counting\", \"my\", \"calories\", \"yet\", \"I\", \"really\", \"want\", \"dessert\", \"I\", \"am\", \"still\", \"hungry\"]\n",
    "\n",
    "[input_list[text] for text in range(0,len(input_list)) if input_list[text] not in input_list[:text]]"
   ]
  },
  {
   "cell_type": "markdown",
   "id": "73b572e6-6de0-4abc-9e78-21ad42a61d04",
   "metadata": {},
   "source": [
    "List overlap\n",
    "Write a function list_overlap(list_1, list_2) that returns the overlap between two input lists list_1 and list_2 of numbers (i.e. the elements present in both lists). The input lists need not be the same size. For example, for the following inputs:\n",
    "\n",
    "list_1 = [1, 4, 5, 6, 6, 5, 10, 11, 12]\n",
    "list_2 = [3, 2, 6, 10]\n",
    "\n",
    "the function should output [6, 10] (or [10, 6]; order isn't important)."
   ]
  },
  {
   "cell_type": "code",
   "execution_count": 1,
   "id": "8d96cb27-bd41-4ed3-a010-57487f5fe4b9",
   "metadata": {},
   "outputs": [],
   "source": [
    "def list_overlap(list_1, list_2):\n",
    "    return list(dict.fromkeys([num for num in list_1 if num in list_2]))"
   ]
  },
  {
   "cell_type": "code",
   "execution_count": 2,
   "id": "3f2bf88d-dceb-440c-ba6d-ccf9bf4b0714",
   "metadata": {},
   "outputs": [
    {
     "name": "stdout",
     "output_type": "stream",
     "text": [
      "[6, 10]\n"
     ]
    }
   ],
   "source": [
    "a = [1, 4, 5, 6, 6, 5, 10, 11, 12]\n",
    "b = [3, 2, 6, 10]\n",
    "\n",
    "print(list_overlap(a, b))"
   ]
  }
 ],
 "metadata": {
  "kernelspec": {
   "display_name": "Python 3 (ipykernel)",
   "language": "python",
   "name": "python3"
  },
  "language_info": {
   "codemirror_mode": {
    "name": "ipython",
    "version": 3
   },
   "file_extension": ".py",
   "mimetype": "text/x-python",
   "name": "python",
   "nbconvert_exporter": "python",
   "pygments_lexer": "ipython3",
   "version": "3.9.12"
  },
  "toc-autonumbering": false,
  "toc-showcode": true,
  "toc-showmarkdowntxt": false
 },
 "nbformat": 4,
 "nbformat_minor": 5
}
